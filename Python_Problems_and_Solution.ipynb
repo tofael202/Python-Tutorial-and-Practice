{
  "nbformat": 4,
  "nbformat_minor": 0,
  "metadata": {
    "colab": {
      "name": "Python Problems and Solution.ipynb",
      "provenance": [],
      "authorship_tag": "ABX9TyM5hmFwMw0E/zOUb8R1nWsD",
      "include_colab_link": true
    },
    "kernelspec": {
      "name": "python3",
      "display_name": "Python 3"
    },
    "language_info": {
      "name": "python"
    }
  },
  "cells": [
    {
      "cell_type": "markdown",
      "metadata": {
        "id": "view-in-github",
        "colab_type": "text"
      },
      "source": [
        "<a href=\"https://colab.research.google.com/github/tofael202/Python-Tutorial-and-Practice/blob/main/Python_Problems_and_Solution.ipynb\" target=\"_parent\"><img src=\"https://colab.research.google.com/assets/colab-badge.svg\" alt=\"Open In Colab\"/></a>"
      ]
    },
    {
      "cell_type": "markdown",
      "metadata": {
        "id": "cwZyvHkEw7kl"
      },
      "source": [
        "### Remove item in list when **iterating** we will use loop like this \n",
        "###for item in list:\n",
        "   list.remove(item) \n",
        "###otherwise it will give **list out of range** if we give like this\n",
        "###for x in range(len(list):\n",
        "   list.remove(list[x]) \n"
      ]
    },
    {
      "cell_type": "code",
      "metadata": {
        "colab": {
          "base_uri": "https://localhost:8080/",
          "height": 135
        },
        "id": "znKgzqI0wsYw",
        "outputId": "2d80fe66-eefd-4505-c7cf-731bc941eaf5"
      },
      "source": [
        "num1=[1,2,3,4,5]\n",
        "for x in range len(num1):\n",
        "  if(num1[x]==2):\n",
        "    num1.remove(num1[x])\n",
        "print(num1)    "
      ],
      "execution_count": 1,
      "outputs": [
        {
          "output_type": "error",
          "ename": "SyntaxError",
          "evalue": "ignored",
          "traceback": [
            "\u001b[0;36m  File \u001b[0;32m\"<ipython-input-1-890dbc730a6d>\"\u001b[0;36m, line \u001b[0;32m2\u001b[0m\n\u001b[0;31m    for x in range len(num1):\u001b[0m\n\u001b[0m                     ^\u001b[0m\n\u001b[0;31mSyntaxError\u001b[0m\u001b[0;31m:\u001b[0m invalid syntax\n"
          ]
        }
      ]
    },
    {
      "cell_type": "code",
      "metadata": {
        "colab": {
          "base_uri": "https://localhost:8080/"
        },
        "id": "UgxLrXEDz3wa",
        "outputId": "216c0feb-c71c-4c91-d608-fba5db7f8543"
      },
      "source": [
        "num1=[1,2,3,4,5]\n",
        "for x in num1:\n",
        "  if(x==2):\n",
        "    num1.remove(x)\n",
        "print(num1) "
      ],
      "execution_count": 2,
      "outputs": [
        {
          "output_type": "stream",
          "name": "stdout",
          "text": [
            "[1, 3, 4, 5]\n"
          ]
        }
      ]
    }
  ]
}